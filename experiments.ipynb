{
 "cells": [
  {
   "cell_type": "code",
   "execution_count": 1,
   "metadata": {},
   "source": [
    "import numpy as np\n",
    "import torch\n",
    "import torch.nn as nn\n",
    "import torch.optim as optim\n",
    "import torch.nn.functional as F\n",
    "import networkx as nx\n",
    "import torch_geometric\n",
    "from torch_geometric.utils import from_networkx\n",
    "from torch_geometric.data import Data\n",
    "import matplotlib.pyplot as plt\n"
   ],
   "outputs": []
  },
  {
   "cell_type": "code",
   "execution_count": 2,
   "metadata": {},
   "source": [
    "def generate_cSBM(n = 5000, f = 2000, d = 5, l = 2.06, mu = 2.0, censor_fraction=0.1):\n",
    "    \"\"\"\n",
    "    Generate a cSBM dataset.\n",
    "\n",
    "    Parameters:\n",
    "    - n: Number of nodes in the graph.\n",
    "    - f: Number of features for each node.\n",
    "    - d: Average degree of each node.\n",
    "    - l: Signal-to-noise ratio.\n",
    "    - mu: Signal strength.\n",
    "    - censor_fraction: Fraction of edges to censor.\n",
    "\n",
    "    Returns:\n",
    "    - PyTorch Geometric Data object representing the censored graph.\n",
    "    \"\"\"\n",
    "    \n",
    "    # Generate SBM graph\n",
    "    nodes_per_community = n // 2\n",
    "    sizes = [nodes_per_community] * 2\n",
    "    ksi = n / f\n",
    "    phi = 2 / np.pi * np.arctan(l * np.sqrt(ksi) / mu)\n",
    "    p_in = (d + l * np.sqrt(d)) / n\n",
    "    p_out = (d - l * np.sqrt(d)) / n\n",
    "    p_matrix = np.ones((2, 2)) * p_out\n",
    "    np.fill_diagonal(p_matrix, p_in)\n",
    "    G = nx.stochastic_block_model(sizes, p_matrix)\n",
    "    \n",
    "    # Censor edges\n",
    "    all_edges = list(G.edges())\n",
    "    np.random.shuffle(all_edges)\n",
    "    edges_to_remove = all_edges[:int(censor_fraction * len(all_edges))]\n",
    "    G.remove_edges_from(edges_to_remove)\n",
    "    \n",
    "    # Add node features\n",
    "    for node in G.nodes():\n",
    "        u = np.random.normal(0, 1 / f, f)\n",
    "        y = G.nodes[node]['block']\n",
    "        Z = np.random.normal(0, 1, f)\n",
    "        G.nodes[node]['x'] = np.sqrt(mu / n) * y * u + Z / np.sqrt(f)\n",
    "    \n",
    "    # Convert to PyTorch Geometric format\n",
    "    data = from_networkx(G)\n",
    "    \n",
    "    # Constructing the feature tensor\n",
    "    node_features = [G.nodes[node]['x'] for node in G.nodes()] # Ensure that the feature vectors are correctly shaped and then stack them\n",
    "    data.x = torch.tensor(node_features, dtype=torch.float)\n",
    "    \n",
    "    return data, G\n",
    "\n",
    "# Generate cSBM data and the networkx graph\n",
    "cSBM_data, G = generate_cSBM()\n",
    "print(cSBM_data)\n",
    "\n",
    "# Visualization\n",
    "def visualize_graph(G):\n",
    "    # Get the community of each node for coloring\n",
    "    community_map = {node: G.nodes[node]['block'] for node in G.nodes()}\n",
    "    colors = [community_map[node] for node in G.nodes()]\n",
    "    \n",
    "    plt.figure(figsize=(10, 8))\n",
    "    nx.draw(G, node_color=colors, with_labels=False, node_size=50, cmap=plt.cm.jet)\n",
    "    plt.show()\n",
    "\n",
    "visualize_graph(G)"
   ],
   "outputs": []
  },
  {
   "cell_type": "code",
   "execution_count": 3,
   "metadata": {},
   "source": [
    "print(cSBM_data.x.shape)"
   ],
   "outputs": []
  },
  {
   "cell_type": "code",
   "execution_count": 4,
   "metadata": {},
   "source": [
    "from models.discriminator import Discriminator\n",
    "from models.PolyGCL_model import PolyGCL\n",
    "from loss import contrastive_loss"
   ],
   "outputs": []
  },
  {
   "cell_type": "code",
   "execution_count": 5,
   "metadata": {},
   "source": [
    "torch.cuda.is_available()"
   ],
   "outputs": []
  },
  {
   "cell_type": "code",
   "execution_count": 6,
   "metadata": {},
   "source": [
    "device = torch.device('cuda' if torch.cuda.is_available() else 'cpu')\n",
    "print('Device:', device)"
   ],
   "outputs": []
  },
  {
   "cell_type": "code",
   "execution_count": 27,
   "metadata": {},
   "source": [
    "cSBM_data = cSBM_data.to(device)\n",
    "edge_index = cSBM_data.edge_index\n",
    "x = cSBM_data.x\n",
    "model = PolyGCL(in_size = 2000, hidden_size = 2000, out_size = 2000, K = 10).to(device)\n",
    "discriminator = Discriminator(2000).to(device)\n",
    "print(next(model.parameters()).device)\n",
    "print(edge_index.device)\n",
    "print(x.device)"
   ],
   "outputs": []
  },
  {
   "cell_type": "code",
   "execution_count": 30,
   "metadata": {},
   "source": [
    "# training\n",
    "optimizer = optim.Adam(model.parameters(), lr=0.1)\n",
    "num_epochs = 10\n",
    "for epoch in range(num_epochs):\n",
    "    model.train()\n",
    "    optimizer.zero_grad()\n",
    "    x_tilde = PolyGCL.get_negative_example(x)\n",
    "    pos_Z_H, pos_Z_L = model(x, edge_index)\n",
    "    neg_Z_H, neg_Z_L = model(x_tilde, edge_index)\n",
    "    g = model.get_global_summary(pos_Z_H, pos_Z_L)\n",
    "    loss = contrastive_loss(pos_Z_H, neg_Z_H, pos_Z_L, neg_Z_L, g, discriminator)\n",
    "    loss.backward()\n",
    "    optimizer.step()\n",
    "    print('Epoch:', epoch, 'Loss:', loss.item())"
   ],
   "outputs": []
  },
  {
   "cell_type": "code",
   "execution_count": null,
   "metadata": {},
   "source": [],
   "outputs": []
  }
 ],
 "metadata": {
  "kernelspec": {
   "display_name": "env",
   "language": "python",
   "name": "python3"
  },
  "language_info": {
   "codemirror_mode": {
    "name": "ipython",
    "version": 3
   },
   "file_extension": ".py",
   "mimetype": "text/x-python",
   "name": "python",
   "nbconvert_exporter": "python",
   "pygments_lexer": "ipython3",
   "version": "3.10.11"
  }
 },
 "nbformat": 4,
 "nbformat_minor": 2
}
